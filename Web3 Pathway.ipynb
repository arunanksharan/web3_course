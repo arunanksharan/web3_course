{
 "cells": [
  {
   "cell_type": "markdown",
   "id": "7aeeb073-0a62-4735-8f94-9c4e0145f9e9",
   "metadata": {},
   "source": [
    "# Topics\n",
    "\n",
    "### Cryptography & Wallet\n",
    "1. Private-Public Keypair | Their relationship + Address derivation\n",
    "2. Mnemonic + BIP39\n",
    "3. ECDSA Curve\n",
    "4. Usage of ethers library to generate a new wallet\n",
    "\n",
    "\n",
    "### Transactions\n",
    "1. Structure - different fields\n",
    "2. Serialisation - RLP\n",
    "3. Signing mechanism\n",
    "\n",
    "\n",
    "### Blockchain Nodes\n",
    "1. Role + structure\n",
    "2. Geth client\n",
    "3. Consensus + staking\n",
    "\n",
    "### Defi"
   ]
  },
  {
   "cell_type": "markdown",
   "id": "e7bb7714-d3b9-496a-807b-df018c75a930",
   "metadata": {},
   "source": [
    "# Cryptography\n",
    "\n",
    "## Reference: Mastering Ethereum: Chapter 4\n",
    "\n",
    "1. Two different accounts - EoA + Contracts\n",
    "2. Public key cryptography - private key kept secure, public key derived from it, private key signs, public key verifies\n",
    "3. Generating private key - Creating an Ethereum private key essentially involves picking a number between 1 and 2^256 | a private key can be any nonzero number up to a very large number slightly less than 2256—a huge 78-digit number, roughly 1.158 * 1077. The exact number shares the first 38 digits with 2256 and is defined as the order of the elliptic curve used in Ethereum.\n",
    "4. Process of generating private key - a large random string > 256-bit hashing algorithm (keccak256 (original algorithm used in Ethereum) or SHA256 (NIST)) > if within valid range = accepted\n",
    "5. Private Key into Generator Point > Public Key (another point on ECDSA curve) > Last 20 bytes of the Keccak-256 hash of Public Key = Ethereum Address"
   ]
  },
  {
   "cell_type": "code",
   "execution_count": 1,
   "id": "d23c8cf9-9a83-43f5-b839-08654681f8ea",
   "metadata": {
    "scrolled": true
   },
   "outputs": [
    {
     "data": {
      "text/html": [
       "<div style='background:#ffecb3;padding:1em;border-left:2px solid #ff6d00'><b>Configuration is not found!</b> Default configuration will be used: <pre>{\"module\":1,\"target\":1,\"moduleResolution\":2,\"esModuleInterop\":true}</pre></div>"
      ]
     },
     "execution_count": 1,
     "metadata": {},
     "output_type": "execute_result"
    }
   ],
   "source": [
    "  import {ethers} from \"ethers\";"
   ]
  },
  {
   "cell_type": "code",
   "execution_count": 2,
   "id": "7e7203ac-f41f-41d8-ba6f-433d6a227a5b",
   "metadata": {},
   "outputs": [
    {
     "data": {
      "text/plain": [
       "undefined"
      ]
     },
     "execution_count": 2,
     "metadata": {},
     "output_type": "execute_result"
    }
   ],
   "source": [
    "// Generate a random wallet\n",
    "const wallet = ethers.Wallet.createRandom();\n",
    "// console.log(`Wallet: ${wallet}`);\n",
    "\n",
    "// Access the private key\n",
    "const privateKey = wallet.privateKey;\n",
    "\n",
    "// Access the public key\n",
    "const publicKey = wallet.publicKey;\n",
    "\n",
    "// Access the address\n",
    "const address = wallet.address;"
   ]
  },
  {
   "cell_type": "code",
   "execution_count": 3,
   "id": "8ea0fdad-ed21-4978-9a0c-c3e67408425c",
   "metadata": {},
   "outputs": [
    {
     "data": {
      "text/plain": [
       "HDNodeWallet {\n",
       "  provider: null,\n",
       "  address: '0x84B086afA5C8ba800b86b838762259BA581C4CC8',\n",
       "  publicKey: '0x0324ca72cdd24071a9565879cc1b3f92489738dc9d7578ba8097714a56edde29db',\n",
       "  fingerprint: '0xad877a93',\n",
       "  parentFingerprint: '0x988d967e',\n",
       "  mnemonic: Mnemonic {\n",
       "    phrase: 'discover excuse auction broom receive student reduce chest pudding correct enroll sun',\n",
       "    password: '',\n",
       "    wordlist: LangEn { locale: 'en' },\n",
       "    entropy: '0x3ee9e03b8e6b39aeed013cad26112cec'\n",
       "  },\n",
       "  chainCode: '0xb2e063d4b049a48ad5af17bfcc0fcae3f40c472cd7c331c747b67db03d1ae4be',\n",
       "  path: \"m/44'/60'/0'/0/0\",\n",
       "  index: 0,\n",
       "  depth: 5\n",
       "}"
      ]
     },
     "execution_count": 3,
     "metadata": {},
     "output_type": "execute_result"
    }
   ],
   "source": [
    "wallet"
   ]
  },
  {
   "cell_type": "code",
   "execution_count": 11,
   "id": "e7f62f2f-9843-4538-8c50-84fe0c2ef821",
   "metadata": {},
   "outputs": [
    {
     "data": {
      "text/plain": [
       "'0x1084b601947bf3f08e006b24cb3ba56f0e3239216b4483ae6a05e71ba9649f8e'"
      ]
     },
     "execution_count": 11,
     "metadata": {},
     "output_type": "execute_result"
    }
   ],
   "source": [
    "privateKey"
   ]
  },
  {
   "cell_type": "code",
   "execution_count": 10,
   "id": "cf77b07c-c790-4d31-8425-b82917b37b71",
   "metadata": {},
   "outputs": [
    {
     "data": {
      "text/plain": [
       "'0x0324ca72cdd24071a9565879cc1b3f92489738dc9d7578ba8097714a56edde29db'"
      ]
     },
     "execution_count": 10,
     "metadata": {},
     "output_type": "execute_result"
    }
   ],
   "source": [
    "publicKey"
   ]
  },
  {
   "cell_type": "code",
   "execution_count": 9,
   "id": "7c2b23b0-62ed-47ee-92b9-120f1ee82045",
   "metadata": {},
   "outputs": [
    {
     "data": {
      "text/plain": [
       "'0x84B086afA5C8ba800b86b838762259BA581C4CC8'"
      ]
     },
     "execution_count": 9,
     "metadata": {},
     "output_type": "execute_result"
    }
   ],
   "source": [
    "address"
   ]
  },
  {
   "cell_type": "markdown",
   "id": "e84c1f49-f7df-4766-8020-06afd373dd63",
   "metadata": {},
   "source": [
    "## Further Reading\n",
    "1. EIP 55 "
   ]
  },
  {
   "cell_type": "markdown",
   "id": "4c9480c2-880f-4c1e-a6b9-e850ac9dd259",
   "metadata": {},
   "source": [
    "# Transaction\n",
    "\n",
    "## Reference: Mastering Ethereum Chapter 6\n",
    "\n",
    "1. Singed message originating from an EoA\n",
    "2. Triggers change of state\n",
    "3. Transaction message's structure is serialized using Recursive Length Prefix (RLP) encoding scheme - created specifically for simple, byte-perfect data serialization in Ethereum\n",
    "4. In the below given interface, field labels such as to, gasLimit etc are shown for clarity but are NOT part of transaction serialized data which containes field values RLP-encoded. RLP's length prefix is used to identify length of each field. ('0------01------12------2')\n",
    "5. EoA's public key is derived from v,r,s components of ECDSA signature.\n",
    "6. Transactions are the starting point of every activity in the Ethereum system.\n",
    "7. Transactions are the “inputs” that cause the Ethereum Virtual Machine to evaluate contracts, update balances, and more generally modify the state of the Ethereum blockchain."
   ]
  },
  {
   "cell_type": "code",
   "execution_count": 13,
   "id": "e2b2a6cf-5370-4525-b6e7-0428e5a64a23",
   "metadata": {},
   "outputs": [
    {
     "data": {
      "text/plain": [
       "undefined"
      ]
     },
     "execution_count": 13,
     "metadata": {},
     "output_type": "execute_result"
    }
   ],
   "source": [
    "interface TransactionInterface {\n",
    "    nonce: number;    // Sequence number to prevent message replay\n",
    "    gasPrice: number;    // Price of gas in wei originator is willing to pay\n",
    "    gasLimit: number;    // Maximum amount of gas originator is willing to buy for this transaction\n",
    "    recipient: string;   // Destination Ethereum Address\n",
    "    value: number;    // Amount of ether to send to the destination\n",
    "    data: string;    // Variable length binary data payload\n",
    "    v_r_s: string;    // Three components of ECDSA digital signature of originating EoA\n",
    "}"
   ]
  },
  {
   "cell_type": "markdown",
   "id": "ad10bb80-554c-466e-884a-b7450180e1fa",
   "metadata": {},
   "source": [
    "# Transaction Propogation\n",
    "\n",
    "1. Flood routing protocol\n",
    "2. Ethereum client = Node in P2P network - mesh network - all nodes equal\n",
    "3. Each node maintains connection to 13 neightbours on average"
   ]
  },
  {
   "cell_type": "markdown",
   "id": "6e060351-4821-404a-a993-a3cbd53723f0",
   "metadata": {},
   "source": [
    "# Smart Contracts and Solidity\n",
    "\n",
    "1. Solidity - syntactically similar to Javascript - BUT - statically typed curly braces\n",
    "2. Data Types similar to other languages\n",
    "3. Boolean - bool - tru | false | ! (not) | && (and) | || (or) | == (equal) | != (not equal)\n",
    "4. Integer - uint (unsigned) | int (signed) | declared in increments of 8 bits from int8 to uint256\n",
    "5. Fixed point - fixed | ufixed\n",
    "6. Address - 20 byte ethereum adress | has member functions around balance & transfer\n",
    "7. Byte array (fixed) - bytes1 to bytes32\n",
    "8. Byte array (dynamic) - variable sized bytes array | bytes | string\n",
    "9. Enum - User-defined typefor enumerating discrete values | enum NAME {LABEL1, LABEL2}\n",
    "10. Arrays - fixed | dynamic\n",
    "11. Struct - User-defined data containers for grouping variables | {type1 var1; type2 var2}\n",
    "12. Mapping: Hash lookup table for key: value pair | Similar to Pyton dictionary | mapping(key => val)\n",
    "\n",
    "### Value literals used to calculate different units\n",
    "13. Time units - seconds (base unit) | minutes | hours | days - used as suffixes\n",
    "14. Ether units - wei (base unit) | finney | szabo | ether | 1 ether = 10^18 wei\n",
    "\n",
    "### Predefined Global Variables and Functions\n",
    "1. When contract is executed, it has access to a set of global objects - block | msg | tx objects.\n",
    "2. **Transaction/Message call context**: msg object is transaction call (EoA originated) or message call (contract originated)\n",
    "3. Whenever a contract calls another contract, the values of all the attributes of msg change to reflect the new caller’s information. The only exception to this is the delegatecall function, which runs the code of another contract/library within the original msg context.\n",
    "4. msg.sender: Address that initiated the contract call | Not necessarily the originating EoA that sent the transaction\n",
    "5. msg.value: ether sent in the call\n",
    "6. msg.gas: gas left in gas supply of this execution environment | replaced with gasLeft\n",
    "7. msg.data: data payload of the call into the contract\n",
    "8. msg.sig: first 4 bytes of data payload - function selector\n",
    "9. **Transaction Context**: tx object - transaction related information\n",
    "10. tx.gasprice: gas price in calling transaction originator is willing to pay for\n",
    "11. tx.origin: Address of originating EoA for this transaction - 'Unsafe'\n",
    "12. **Block Context**: Information about the current block\n",
    "13. block.blockhash (blockNumber): blockHash of speicified blockNumber upto 256 blocks in the past | replaced with blockhash function\n",
    "14. block.coinbase: Address of recipient of current block's fees and block rewards\n",
    "15. block.difficulty: Proof of Work difficulty (has moved to Proof of Stake) since then\n",
    "16. block.gasLimit: Maximum amount fo gas that can be spent across all transactions included in current block\n",
    "17. block.number: Current block number (blockchain height)\n",
    "18. block.timestamp: number of seconds since Unix eposh - placed by miner in current block\n",
    "19. **Address Object**: Any address passed as input or cast from contract object\n",
    "20. address.balance: balance of given address in wei | current contract balance = address(this).balance\n",
    "21. address.transfer(amount): transfer amount in wei to this address | exception on error\n",
    "22. address.send(amount): similar to transfer | returns false on error - always check this value\n",
    "23. address.call(payload): low-level CALL function - arbitray message call with data payload | returns false on error (Unsafe) | recipient can use up all your gas and cause OutOfGas exception\n",
    "24. address.callcode(payload): low-level CALLCODE function | replaces this contract's code with that of address | returns false on error | Advanced usage\n",
    "25. address.delegatecall: low-level DELEGATECALL function like callcode() | full message context seen by current contract | returns false on error\n",
    "26. **Built-in Functions**: addmod | mulmod - modulo addition and multiplication - addmod(x,y,k) = (x+y) % k\n",
    "27. keccak256, sha256, sha3, ripemd160: calculate hashes with standard hashing algorithms\n",
    "28. ecrecover: recover address used to sign a message from a signature\n",
    "29. selfdestruct(recipient_address): deletes current contract sending any remaining ether in account to recipient address\n",
    "30. this: address of currently executing contract account\n"
   ]
  },
  {
   "cell_type": "markdown",
   "id": "fc0db17e-a537-48f7-a4f7-7ecbfdc4c2e4",
   "metadata": {},
   "source": [
    "# Contract Definition\n",
    "\n",
    "1. Contract: principal data type\n",
    "2. Two other similar object types: Interface | Library\n",
    "3. Interface: Structured like contract | functions only declared 'stub' | functions arguments and return types | when inherited, each of functions declared by interface must be defined by the child\n",
    "4. Library: meant to be deployed only once and used by other contracts using delegatecall method\n",
    "5. Inheritance: contract <_Child_> is <_Parent1_>, <_Parent2_> {}\n",
    "6. \n",
    "\n",
    "### Functions\n",
    "5. Syntax: function FunctionName([parameters]) {public|private|internal|external} [pure|constant|view|payable] [modifiers] [returns (return types)]\n",
    "6. FunctionName: name of the function | called in transaction from EoA | another contract | within same contract\n",
    "7. parameters: arguments with names and types | uint arg_1\n",
    "8. visibility: who can call the function\n",
    "9. public - called by EoA transactions or other contracts  or within contract\n",
    "10. external - cannot be called from within contract except if explicitly prefixed with keyword this\n",
    "11. internal - only accessible from within contract & inherited/derived contract & cannot be called by another contract or EoA transaction\n",
    "12. private - internal but cannot be called by inherited/derived contracts\n",
    "13. pure: neither reads nor writes to any variable in the storage | only operate on arguments and return data without reference to stored data | declarative programming without side effects or state change\n",
    "14. constant/view: no modification of state\n",
    "15. payable: can accept incoming payments | Exceptions: coinbase payments & SELFDESTRUCT inheritance will be paid even if fallback function is not declared as payable - this makes sense because code execution is not part of those payments anyway\n",
    "16. modifiers: used to create conditions that apply to many functions within a contract | access control | onlyOwner - require(msg.sender == owner)\n",
    "17. fallback function: One function in each contract may be defined without a name | called when no other function is named | cannot have any arguments or return anything\n",
    "18. constructor function: if one exists - to initialize the state of the contract | constructor is run in the same transaction as the contract creation\n",
    "19. selfdestruct(address recipient): address to receive any ether balance remaining in the contract account\n",
    "\n",
    "### Error Handling\n",
    "20. When a contract terminates with an error, all the state changes (changes to variables, balances, etc.) are reverted, all the way up the chain of contract calls if more than one contract was called. This ensures that transactions are atomic, meaning they either complete successfully or have no effect on state and are reverted entirely.\n",
    "21. assert: Evaluating a condition and stopping execution with an error if the condition is false. By convention, assert is used when the outcome is expected to be true, meaning that we use assert to test internal conditions\n",
    "22. require: require is used when testing inputs (such as function arguments or transaction fields), setting our expectations for those conditions | acts as a gate condition | require(msg.sender == owner, \"Only the contract owner can call this function\")\n",
    "23. revert: halt execution and revert state changes\n",
    "24. throw: obsolete\n",
    "\n",
    "### Events\n",
    "25. Transaction Receipt: Produced on completion of transaction | Contains log entries providing information about actions during execution of transaction\n",
    "26. Events: solidity high level objects used to construct these logs | USed by Dapps and light clients - listen to specific events and report to UI | change state in app to reflect change in contract state\n",
    "27. event Deposit(address indexed from, uint amount);\n",
    "28. indexed: keyword added before argument to make value part of indexed table - search and filter enabled | Event objects take arguments serialised and recorded in transaction logs in blockchain\n",
    "29. emit Deposit(msg.sender, msg.value)\n",
    "30. "
   ]
  },
  {
   "cell_type": "markdown",
   "id": "9a4d5207-46c9-49d2-832a-6bda033ada99",
   "metadata": {},
   "source": [
    "### Security Basics\n",
    "1. Principles: Minimalism/Simplicity | Code reuse | Code quality | Readability/Auditability | Test coverage\n",
    "2. Reentrancy - DAO Hack\n",
    "3. DELEGATECALL\n",
    "4. Entropy Illusion\n",
    "5. External Contract Referencing\n",
    "6. Short Address/Parameter Attack\n",
    "7. Unchecked CALL Return Values\n",
    "8. Race Conditions/Front Running\n",
    "9. Denial of Service (DoS)\n",
    "10. Block Timestamp Manipulation\n",
    "11. Constructors with Care\n",
    "12. Unitialised Storage Pointers\n",
    "13. Floating Point & Precision\n",
    "14. Tx.origin Authentication: traverses entire call stack and contains address of account that originally sent the call (or transaction)\n",
    "15. Contract Libraries\n",
    "16. "
   ]
  },
  {
   "cell_type": "markdown",
   "id": "128d7e97-e76e-4104-9c37-5838d0696f70",
   "metadata": {},
   "source": [
    "### Tokens\n",
    "1. Will do this in the next part."
   ]
  },
  {
   "cell_type": "markdown",
   "id": "0e53b8fa-d845-41db-85a8-aa4650df8dc2",
   "metadata": {},
   "source": [
    "### Let us do a mini-project on depositing ERC20 token from a users wallet into our smart contract\n"
   ]
  },
  {
   "cell_type": "code",
   "execution_count": null,
   "id": "0438b87e-a338-4993-922e-e6eafc28909e",
   "metadata": {},
   "outputs": [],
   "source": []
  },
  {
   "cell_type": "code",
   "execution_count": null,
   "id": "6d24ce61-5905-454a-8a09-f545d1e90524",
   "metadata": {},
   "outputs": [],
   "source": []
  },
  {
   "cell_type": "code",
   "execution_count": null,
   "id": "421d6885-4ed3-4f37-b6a4-3fc1e9719d1c",
   "metadata": {},
   "outputs": [],
   "source": []
  },
  {
   "cell_type": "markdown",
   "id": "eecaa4a7-ebf3-4646-b92a-f7fb5b0e7b3d",
   "metadata": {},
   "source": [
    "# Doubts:\n",
    "1. Difference between storage and state | can it happen that storage is updated but state is not? - difference between view and pure in this context\n",
    "2. "
   ]
  }
 ],
 "metadata": {
  "kernelspec": {
   "display_name": "Typescript 4.9",
   "language": "typescript",
   "name": "typescript"
  },
  "language_info": {
   "file_extension": ".ts",
   "mimetype": "application/x-typescript",
   "name": "typescript",
   "version": "4.9.5"
  }
 },
 "nbformat": 4,
 "nbformat_minor": 5
}
