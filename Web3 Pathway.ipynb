{
 "cells": [
  {
   "cell_type": "markdown",
   "id": "7aeeb073-0a62-4735-8f94-9c4e0145f9e9",
   "metadata": {},
   "source": [
    "# Topics\n",
    "\n",
    "### Cryptography & Wallet\n",
    "1. Private-Public Keypair | Their relationship + Address derivation\n",
    "2. Mnemonic + BIP39\n",
    "3. ECDSA Curve\n",
    "4. Usage of ethers library to generate a new wallet\n",
    "\n",
    "\n",
    "### Transactions\n",
    "1. Structure - different fields\n",
    "2. Serialisation - RLP\n",
    "3. Signing mechanism\n",
    "\n",
    "\n",
    "### Blockchain Nodes\n",
    "1. Role + structure\n",
    "2. Geth client\n",
    "3. Consensus + staking\n",
    "\n",
    "### Defi"
   ]
  },
  {
   "cell_type": "markdown",
   "id": "e7bb7714-d3b9-496a-807b-df018c75a930",
   "metadata": {},
   "source": [
    "# Cryptography\n",
    "\n",
    "## Reference: Mastering Ethereum: Chapter 4\n",
    "\n",
    "1. Two different accounts - EoA + Contracts\n",
    "2. Public key cryptography - private key kept secure, public key derived from it, private key signs, public key verifies\n",
    "3. Generating private key - Creating an Ethereum private key essentially involves picking a number between 1 and 2^256 | a private key can be any nonzero number up to a very large number slightly less than 2256—a huge 78-digit number, roughly 1.158 * 1077. The exact number shares the first 38 digits with 2256 and is defined as the order of the elliptic curve used in Ethereum.\n",
    "4. Process of generating private key - a large random string > 256-bit hashing algorithm (keccak256 (original algorithm used in Ethereum) or SHA256 (NIST)) > if within valid range = accepted\n",
    "5. Private Key into Generator Point > Public Key (another point on ECDSA curve) > Last 20 bytes of the Keccak-256 hash of Public Key = Ethereum Address"
   ]
  },
  {
   "cell_type": "code",
   "execution_count": 1,
   "id": "d23c8cf9-9a83-43f5-b839-08654681f8ea",
   "metadata": {
    "scrolled": true
   },
   "outputs": [
    {
     "data": {
      "text/html": [
       "<div style='background:#ffecb3;padding:1em;border-left:2px solid #ff6d00'><b>Configuration is not found!</b> Default configuration will be used: <pre>{\"module\":1,\"target\":1,\"moduleResolution\":2,\"esModuleInterop\":true}</pre></div>"
      ]
     },
     "execution_count": 1,
     "metadata": {},
     "output_type": "execute_result"
    }
   ],
   "source": [
    "  import {ethers} from \"ethers\";"
   ]
  },
  {
   "cell_type": "code",
   "execution_count": 2,
   "id": "7e7203ac-f41f-41d8-ba6f-433d6a227a5b",
   "metadata": {},
   "outputs": [
    {
     "data": {
      "text/plain": [
       "undefined"
      ]
     },
     "execution_count": 2,
     "metadata": {},
     "output_type": "execute_result"
    }
   ],
   "source": [
    "// Generate a random wallet\n",
    "const wallet = ethers.Wallet.createRandom();\n",
    "// console.log(`Wallet: ${wallet}`);\n",
    "\n",
    "// Access the private key\n",
    "const privateKey = wallet.privateKey;\n",
    "\n",
    "// Access the public key\n",
    "const publicKey = wallet.publicKey;\n",
    "\n",
    "// Access the address\n",
    "const address = wallet.address;"
   ]
  },
  {
   "cell_type": "code",
   "execution_count": 3,
   "id": "8ea0fdad-ed21-4978-9a0c-c3e67408425c",
   "metadata": {},
   "outputs": [
    {
     "data": {
      "text/plain": [
       "HDNodeWallet {\n",
       "  provider: null,\n",
       "  address: '0x84B086afA5C8ba800b86b838762259BA581C4CC8',\n",
       "  publicKey: '0x0324ca72cdd24071a9565879cc1b3f92489738dc9d7578ba8097714a56edde29db',\n",
       "  fingerprint: '0xad877a93',\n",
       "  parentFingerprint: '0x988d967e',\n",
       "  mnemonic: Mnemonic {\n",
       "    phrase: 'discover excuse auction broom receive student reduce chest pudding correct enroll sun',\n",
       "    password: '',\n",
       "    wordlist: LangEn { locale: 'en' },\n",
       "    entropy: '0x3ee9e03b8e6b39aeed013cad26112cec'\n",
       "  },\n",
       "  chainCode: '0xb2e063d4b049a48ad5af17bfcc0fcae3f40c472cd7c331c747b67db03d1ae4be',\n",
       "  path: \"m/44'/60'/0'/0/0\",\n",
       "  index: 0,\n",
       "  depth: 5\n",
       "}"
      ]
     },
     "execution_count": 3,
     "metadata": {},
     "output_type": "execute_result"
    }
   ],
   "source": [
    "wallet"
   ]
  },
  {
   "cell_type": "code",
   "execution_count": 11,
   "id": "e7f62f2f-9843-4538-8c50-84fe0c2ef821",
   "metadata": {},
   "outputs": [
    {
     "data": {
      "text/plain": [
       "'0x1084b601947bf3f08e006b24cb3ba56f0e3239216b4483ae6a05e71ba9649f8e'"
      ]
     },
     "execution_count": 11,
     "metadata": {},
     "output_type": "execute_result"
    }
   ],
   "source": [
    "privateKey"
   ]
  },
  {
   "cell_type": "code",
   "execution_count": 10,
   "id": "cf77b07c-c790-4d31-8425-b82917b37b71",
   "metadata": {},
   "outputs": [
    {
     "data": {
      "text/plain": [
       "'0x0324ca72cdd24071a9565879cc1b3f92489738dc9d7578ba8097714a56edde29db'"
      ]
     },
     "execution_count": 10,
     "metadata": {},
     "output_type": "execute_result"
    }
   ],
   "source": [
    "publicKey"
   ]
  },
  {
   "cell_type": "code",
   "execution_count": 9,
   "id": "7c2b23b0-62ed-47ee-92b9-120f1ee82045",
   "metadata": {},
   "outputs": [
    {
     "data": {
      "text/plain": [
       "'0x84B086afA5C8ba800b86b838762259BA581C4CC8'"
      ]
     },
     "execution_count": 9,
     "metadata": {},
     "output_type": "execute_result"
    }
   ],
   "source": [
    "address"
   ]
  },
  {
   "cell_type": "markdown",
   "id": "e84c1f49-f7df-4766-8020-06afd373dd63",
   "metadata": {},
   "source": [
    "## Further Reading\n",
    "1. EIP 55 "
   ]
  },
  {
   "cell_type": "markdown",
   "id": "4c9480c2-880f-4c1e-a6b9-e850ac9dd259",
   "metadata": {},
   "source": [
    "# Transaction\n",
    "\n",
    "## Reference: Mastering Ethereum Chapter 6\n",
    "\n",
    "1. Singed message originating from an EoA\n",
    "2. Triggers change of state\n",
    "3. Transaction message's structure is serialized using Recursive Length Prefix (RLP) encoding scheme - created specifically for simple, byte-perfect data serialization in Ethereum\n",
    "4. In the below given interface, field labels such as to, gasLimit etc are shown for clarity but are NOT part of transaction serialized data which containes field values RLP-encoded. RLP's length prefix is used to identify length of each field. ('0------01------12------2')\n",
    "5. EoA's public key is derived from v,r,s components of ECDSA signature.\n",
    "6. Transactions are the starting point of every activity in the Ethereum system.\n",
    "7. Transactions are the “inputs” that cause the Ethereum Virtual Machine to evaluate contracts, update balances, and more generally modify the state of the Ethereum blockchain."
   ]
  },
  {
   "cell_type": "code",
   "execution_count": 13,
   "id": "e2b2a6cf-5370-4525-b6e7-0428e5a64a23",
   "metadata": {},
   "outputs": [
    {
     "data": {
      "text/plain": [
       "undefined"
      ]
     },
     "execution_count": 13,
     "metadata": {},
     "output_type": "execute_result"
    }
   ],
   "source": [
    "interface TransactionInterface {\n",
    "    nonce: number;    // Sequence number to prevent message replay\n",
    "    gasPrice: number;    // Price of gas in wei originator is willing to pay\n",
    "    gasLimit: number;    // Maximum amount of gas originator is willing to buy for this transaction\n",
    "    recipient: string;   // Destination Ethereum Address\n",
    "    value: number;    // Amount of ether to send to the destination\n",
    "    data: string;    // Variable length binary data payload\n",
    "    v_r_s: string;    // Three components of ECDSA digital signature of originating EoA\n",
    "}"
   ]
  },
  {
   "cell_type": "markdown",
   "id": "ad10bb80-554c-466e-884a-b7450180e1fa",
   "metadata": {},
   "source": [
    "# Transaction Propogation\n",
    "\n",
    "1. Flood routing protocol\n",
    "2. Ethereum client = Node in P2P network - mesh network - all nodes equal\n",
    "3. Each node maintains connection to 13 neightbours on average"
   ]
  },
  {
   "cell_type": "markdown",
   "id": "6e060351-4821-404a-a993-a3cbd53723f0",
   "metadata": {},
   "source": [
    "# Smart Contracts and Solidity\n",
    "\n",
    "1. Solidity - syntactically similar to Javascript - BUT - statically typed curly braces\n",
    "2. Data Types similar to other languages\n",
    "3. Boolean - bool - tru | false | ! (not) | && (and) | || (or) | == (equal) | != (not equal)\n",
    "4. Integer - uint (unsigned) | int (signed) | declared in increments of 8 bits from int8 to uint256\n",
    "5. Fixed point - fixed | ufixed\n",
    "6. Address - 20 byte ethereum adress | has member functions around balance & transfer\n",
    "7. Byte array (fixed) - bytes1 to bytes32\n",
    "8. Byte array (dynamic) - variable sized bytes array | bytes | string\n",
    "9. Enum - User-defined typefor enumerating discrete values | enum NAME {LABEL1, LABEL2}\n",
    "10. Arrays - fixed | dynamic\n",
    "11. Struct - User-defined data containers for grouping variables | {type1 var1; type2 var2}\n",
    "12. Mapping: Hash lookup table for key: value pair | Similar to Pyton dictionary | mapping(key => val)\n",
    "\n",
    "### Value literals used to calculate different units\n",
    "13. Time units - seconds (base unit) | minutes | hours | days - used as suffixes\n",
    "14. Ether units - wei (base unit) | finney | szabo | ether | 1 ether = 10^18 wei\n",
    "\n",
    "### Predefined Global Variables and Functions\n",
    "1. When contract is executed, it has access to a set of global objects - block | msg | tx objects.\n",
    "2. **Transaction/Message call context**: msg object is transaction call (EoA originated) or message call (contract originated)\n",
    "3. Whenever a contract calls another contract, the values of all the attributes of msg change to reflect the new caller’s information. The only exception to this is the delegatecall function, which runs the code of another contract/library within the original msg context.\n",
    "4. msg.sender: Address that initiated the contract call | Not necessarily the originating EoA that sent the transaction\n",
    "5. msg.value: ether sent in the call\n",
    "6. msg.gas: gas left in gas supply of this execution environment | replaced with gasLeft\n",
    "7. msg.data: data payload of the call into the contract\n",
    "8. msg.sig: first 4 bytes of data payload - function selector\n",
    "9. **Transaction Context**: tx object - transaction related information\n",
    "10. tx.gasprice: gas price in calling transaction originator is willing to pay for\n",
    "11. tx.origin: Address of originating EoA for this transaction - 'Unsafe'\n",
    "12. **Block Context**: Information about the current block\n",
    "13. block.blockhash (blockNumber): blockHash of speicified blockNumber upto 256 blocks in the past | replaced with blockhash function\n",
    "14. block.coinbase: Address of recipient of current block's fees and block rewards\n",
    "15. block.difficulty: Proof of Work difficulty (has moved to Proof of Stake) since then\n",
    "16. block.gasLimit: Maximum amount fo gas that can be spent across all transactions included in current block\n",
    "17. block.number: Current block number (blockchain height)\n",
    "18. block.timestamp: number of seconds since Unix eposh - placed by miner in current block\n",
    "19. **Address Object**: Any address passed as input or cast from contract object\n",
    "20. address.balance: balance of given address in wei | current contract balance = address(this).balance\n",
    "21. address.transfer(amount): transfer amount in wei to this address | exception on error\n",
    "22. address.send(amount): similar to transfer | returns false on error - always check this value\n",
    "23. address.call(payload): low-level CALL function - arbitray message call with data payload | returns false on error (Unsafe) | recipient can use up all your gas and cause OutOfGas exception\n",
    "24. address.callcode(payload): low-level CALLCODE function | replaces this contract's code with that of address | returns false on error | Advanced usage\n",
    "25. address.delegatecall: low-level DELEGATECALL function like callcode() | full message context seen by current contract | returns false on error\n",
    "26. **Built-in Functions**: addmod | mulmod - modulo addition and multiplication - addmod(x,y,k) = (x+y) % k\n",
    "27. keccak256, sha256, sha3, ripemd160: calculate hashes with standard hashing algorithms\n",
    "28. ecrecover: recover address used to sign a message from a signature\n",
    "29. selfdestruct(recipient_address): deletes current contract sending any remaining ether in account to recipient address\n",
    "30. this: address of currently executing contract account\n"
   ]
  },
  {
   "cell_type": "markdown",
   "id": "fc0db17e-a537-48f7-a4f7-7ecbfdc4c2e4",
   "metadata": {},
   "source": [
    "# Contract Definition\n",
    "\n",
    "1. Contract: principal data type\n",
    "2. Two other similar object types: Interface | Library\n",
    "3. Interface: Structured like contract | functions only declared 'stub' | functions arguments and return types | when inherited, each of functions declared by interface must be defined by the child\n",
    "4. Library: meant to be deployed only once and used by other contracts using delegatecall method\n",
    "5. Inheritance: contract <_Child_> is <_Parent1_>, <_Parent2_> {}\n",
    "6. \n",
    "\n",
    "### Functions\n",
    "5. Syntax: function FunctionName([parameters]) {public|private|internal|external} [pure|constant|view|payable] [modifiers] [returns (return types)]\n",
    "6. FunctionName: name of the function | called in transaction from EoA | another contract | within same contract\n",
    "7. parameters: arguments with names and types | uint arg_1\n",
    "8. visibility: who can call the function\n",
    "9. public - called by EoA transactions or other contracts  or within contract\n",
    "10. external - cannot be called from within contract except if explicitly prefixed with keyword this\n",
    "11. internal - only accessible from within contract & inherited/derived contract & cannot be called by another contract or EoA transaction\n",
    "12. private - internal but cannot be called by inherited/derived contracts\n",
    "13. pure: neither reads nor writes to any variable in the storage | only operate on arguments and return data without reference to stored data | declarative programming without side effects or state change\n",
    "14. constant/view: no modification of state\n",
    "15. payable: can accept incoming payments | Exceptions: coinbase payments & SELFDESTRUCT inheritance will be paid even if fallback function is not declared as payable - this makes sense because code execution is not part of those payments anyway\n",
    "16. modifiers: used to create conditions that apply to many functions within a contract | access control | onlyOwner - require(msg.sender == owner)\n",
    "17. fallback function: One function in each contract may be defined without a name | called when no other function is named | cannot have any arguments or return anything\n",
    "18. constructor function: if one exists - to initialize the state of the contract | constructor is run in the same transaction as the contract creation\n",
    "19. selfdestruct(address recipient): address to receive any ether balance remaining in the contract account\n",
    "\n",
    "### Error Handling\n",
    "20. When a contract terminates with an error, all the state changes (changes to variables, balances, etc.) are reverted, all the way up the chain of contract calls if more than one contract was called. This ensures that transactions are atomic, meaning they either complete successfully or have no effect on state and are reverted entirely.\n",
    "21. assert: Evaluating a condition and stopping execution with an error if the condition is false. By convention, assert is used when the outcome is expected to be true, meaning that we use assert to test internal conditions\n",
    "22. require: require is used when testing inputs (such as function arguments or transaction fields), setting our expectations for those conditions | acts as a gate condition | require(msg.sender == owner, \"Only the contract owner can call this function\")\n",
    "23. revert: halt execution and revert state changes\n",
    "24. throw: obsolete\n",
    "\n",
    "### Events\n",
    "25. Transaction Receipt: Produced on completion of transaction | Contains log entries providing information about actions during execution of transaction\n",
    "26. Events: solidity high level objects used to construct these logs | USed by Dapps and light clients - listen to specific events and report to UI | change state in app to reflect change in contract state\n",
    "27. event Deposit(address indexed from, uint amount);\n",
    "28. indexed: keyword added before argument to make value part of indexed table - search and filter enabled | Event objects take arguments serialised and recorded in transaction logs in blockchain\n",
    "29. emit Deposit(msg.sender, msg.value)\n",
    "\n",
    "### Notes from Writing Smart Contracts:\n",
    "30. Use i_ as prefix for immutable values - eg: setting minimum_degen_amount for entering into raffle => i_minimum_degen_amount\n",
    "31. Use custom errors instead of require()\n",
    "32. Use events and logs to listen to and update offchain components\n",
    "33. "
   ]
  },
  {
   "cell_type": "markdown",
   "id": "9a4d5207-46c9-49d2-832a-6bda033ada99",
   "metadata": {},
   "source": [
    "### Security Basics\n",
    "1. Principles: Minimalism/Simplicity | Code reuse | Code quality | Readability/Auditability | Test coverage\n",
    "2. Reentrancy - DAO Hack\n",
    "3. DELEGATECALL\n",
    "4. Entropy Illusion\n",
    "5. External Contract Referencing\n",
    "6. Short Address/Parameter Attack\n",
    "7. Unchecked CALL Return Values\n",
    "8. Race Conditions/Front Running\n",
    "9. Denial of Service (DoS)\n",
    "10. Block Timestamp Manipulation\n",
    "11. Constructors with Care\n",
    "12. Unitialised Storage Pointers\n",
    "13. Floating Point & Precision\n",
    "14. Tx.origin Authentication: traverses entire call stack and contains address of account that originally sent the call (or transaction)\n",
    "15. Contract Libraries\n",
    "16. "
   ]
  },
  {
   "cell_type": "markdown",
   "id": "128d7e97-e76e-4104-9c37-5838d0696f70",
   "metadata": {},
   "source": [
    "### Tokens\n",
    "\n",
    "1. Definition: blockchain based abstraction that represents asset, currency, access rights and can be owned\n",
    "2. Applications: Currency | Resource | Asset | Access | Equity | Voting | Collectible | Identity | Attestation | Utility\n",
    "3. Fungibility: Interchangeable token - aggregate balance mapped to user address | USDC: 0x123: 100\n",
    "4. Nonfungibility: Two different token Ids cannot be interchanged - 0x123: Pikachu NFT: 1 || 0x789: Magikarp: 1\n",
    "5. Intrinsicality: Tokens represent digital items inherent and intrinsic to the operation of blockchain itself | Consensus rules apply - establishing your ownership over the asset directly - our private key to an address which own the asset = your asset - Native tokens of the blockchain\n",
    "6. Extrinsic Assets represented by tokens onchain - not governed by blockchain consensus rules but by external policy, law etc - introduces a counterparty risk\n",
    "7. Tokens are different from Ether - ethereum protocol does not know anything about tokens\n",
    "8. Sending ether = intrinsic to ethereum - ether balance = handled at the protocol level\n",
    "9. Tokens - sending or owning - handled at smart contract level | Smart contract - handle - ownership | transfer | access rights\n",
    "10. \n",
    "11. EIPs related - ERC20 | ERC721 | ERC 777 | ERC1155 | Use this properly in the raffle Farcaster product we were building\n",
    "12. ERC20 - Standard for fungible tokens - common interface for contracts implementing a token\n",
    "13. ERC20 - 6 functions: totalSupply | balanceOf | transfer | transferFrom | approve | allowance || 2 events: Transfer | Approval || Optional functions: name | symbol | decimals\n",
    "14. ERC20 - transfer: A to B | A is the owner of tokens\n",
    "15. ERC20 - approve + trasnferFrom | A wants D to transfer tokens on A's behalf to B | A approves a certain amount (allowance) for D to do this | D calls transferFrom to transfer from A to B\n",
    "16. ERC20 - datastructures: balances: mapping(address => uint26) || allowances: mapping(owner_address => mapping(spender_address => uint256)) public allowed;\n",
    "17. What happens when we send ERC20 token to a contract address? | A simple way to demonstrate - creating a basic erc20 token and its faucet\n",
    "18. Differences between ERC20 tokens and ether: Where ether is transferred by a transaction that has a recipient address as its destination | token transfers occur within the specific contract state and have token contract as their destination - NOT the recipient's address | token contract tracks balances and issues events\n",
    "19. A transaction sending ether to an address changes the state of an address.\n",
    "20. A transaction transferring a token to an address only changes the state of the token contract, not the state of the recipi‐ ent address\n",
    "21. Tokens don’t behave the same way as ether. Ether is sent with the send function and accepted by any payable function in a contract or any externally owned address.\n",
    "22. Tokens are sent using transfer or approve & transferFrom functions that exist only in the ERC20 contract, and do not (at least in ERC20) trigger any payable functions in a recipient contract.\n",
    "23. To send ether or use any Ethereum contract you need ether to pay for gas. To send tokens, you also need ether.\n",
    "24. "
   ]
  },
  {
   "cell_type": "code",
   "execution_count": null,
   "id": "03bf5e7a-c0ed-43de-b9cc-2105492a1c6f",
   "metadata": {},
   "outputs": [],
   "source": [
    "// Ether - protocol level\n",
    "interface TransactionInterface {\n",
    "    nonce: number;    // Sequence number to prevent message replay\n",
    "    gasPrice: number;    // Price of gas in wei originator is willing to pay\n",
    "    gasLimit: number;    // Maximum amount of gas originator is willing to buy for this transaction\n",
    "    from: string;  // From Alice: 0xAlice\n",
    "    recipient: string;   // To Bob: 0xBob\n",
    "    value: number;    // 1 ether\n",
    "    data: string;    // --- vacant - empty ---\n",
    "    v_r_s: string;    // Three components of ECDSA digital signature of originating EoA\n",
    "}\n",
    "\n",
    "\n",
    "// ERC20 Token Transfer is happening\n",
    "interface TransactionInterface {\n",
    "    nonce: number;    // Sequence number to prevent message replay\n",
    "    gasPrice: number;    // Price of gas in wei originator is willing to pay\n",
    "    gasLimit: number;    // Maximum amount of gas originator is willing to buy for this transaction\n",
    "    from: string;  // From Alice: 0xAlice\n",
    "    recipient: string;   // NOT: 0xBob => Contract Address of ERC20 - 0xERC20\n",
    "    value: number;    // --\n",
    "    data: string;    // bytesarray - information - invoke transfer function with to: 0xBob, amount: 10\n",
    "    v_r_s: string;    // Three components of ECDSA digital signature of originating EoA\n",
    "}"
   ]
  },
  {
   "cell_type": "markdown",
   "id": "0e53b8fa-d845-41db-85a8-aa4650df8dc2",
   "metadata": {},
   "source": [
    "### Let us do a mini-project on depositing ERC20 token from a users wallet into our smart contract\n",
    "\n",
    "\n",
    "1. Create the Raffle Contract - progressing well\n",
    "2. Need to understand Biconomy's working mechanism\n",
    "3. "
   ]
  },
  {
   "cell_type": "markdown",
   "id": "162f46d8-d449-441f-93d4-dea873e3e89b",
   "metadata": {},
   "source": [
    "## Biconomy\n",
    "1. Signer agnostic - use any authorization package | need to pass signer into the SDK upon creation of Smart Account\n",
    "2. Validation modules that allow you to execute arbitrary logic before validating a userOp\n",
    "3. The Bundler is a service that tracks userOps that exist in an alternative mem pool and as the name suggests, bundles them together to send to an Entry Point Contract for eventual execution onchain\n",
    "4. Paymaster - sponsorship | token (ERC20)\n",
    "5. In the tutorial, createAccountAndMinfNFT - all the instructions are being passed offchain.\n",
    "6. Batch of txs can be used to add multiple users to a raffle and initialize it at one go.\n",
    "7. Biconomy maintains a mapping of EoA to Smart Account Addresses in its ECDSA Registry module (which I think is used to maintain the structure for 'EoA owned BSA')"
   ]
  },
  {
   "cell_type": "code",
   "execution_count": null,
   "id": "1ef23fa7-03b8-49af-bec0-9c00856bf582",
   "metadata": {},
   "outputs": [],
   "source": []
  },
  {
   "cell_type": "code",
   "execution_count": null,
   "id": "0438b87e-a338-4993-922e-e6eafc28909e",
   "metadata": {},
   "outputs": [],
   "source": []
  },
  {
   "cell_type": "code",
   "execution_count": null,
   "id": "6d24ce61-5905-454a-8a09-f545d1e90524",
   "metadata": {},
   "outputs": [],
   "source": []
  },
  {
   "cell_type": "code",
   "execution_count": null,
   "id": "421d6885-4ed3-4f37-b6a4-3fc1e9719d1c",
   "metadata": {},
   "outputs": [],
   "source": []
  },
  {
   "cell_type": "markdown",
   "id": "eecaa4a7-ebf3-4646-b92a-f7fb5b0e7b3d",
   "metadata": {},
   "source": [
    "# Doubts:\n",
    "1. Difference between storage and state | can it happen that storage is updated but state is not? - difference between view and pure in this context\n",
    "2. Distinction between EOAs and contracts, and between **transactions and messages**"
   ]
  },
  {
   "cell_type": "markdown",
   "id": "ea677d95-1918-430b-9d9d-eda1f52163fd",
   "metadata": {},
   "source": [
    "# NonEVM - Move-based Chains: Aptos\n",
    "\n",
    "### References:\n",
    "1. https://aptosfoundation.org/\n",
    "2. https://learn.aptoslabs.com/aptos-101/web2-web3-comparison\n",
    "3. "
   ]
  },
  {
   "cell_type": "markdown",
   "id": "af1239ff-df22-49ab-ad46-c2bb33876261",
   "metadata": {},
   "source": [
    "## Aptos 101:\n",
    "\n",
    "1. Web2 vs Web3 Comparison: Read - Web3 permissionless | Write - via blockchain transaction - to be signed by wallet\n",
    "2. Solidity vs Move:\n",
    "3. Solidity = Contract Oriented - single contract with maping and state for assets ||| Move = Resource Oriented - every digital asset as unique with an owner\n",
    "4. Solidity = Dynamic dispatch - arbitrary call to any address/contract - flexibility ||| Move = Static dispatch - security over flexibility\n",
    "5. Solidity = Developer dependent - asked to deploy all code/librayr ||| Move - Libraries within Aptos framework for reuse\n",
    "6. Solidity Token = Each token = own contract | EIP Standards | Balance stored in token contract as mapping | Transfer of token does not need receipient's explicit permission\n",
    "7. Move Token = Each token = typed Coin with a single reusable contract | Standard implementation | Balance stored as Resource in user's account | Except speicifc cases (AptosCoin) - transfer requires receipient's signer authority for transfer\n",
    "\n",
    "### EVM vs Move VM\n",
    "8. Data Storage: Smart contract's storage space ||| Across smart contracts, user accounts and objects\n",
    "9. Parallelisation: Limited due to shared storage ||| Better due to split storage design\n",
    "10. VM and Language Integration: Separate layers for EVM and Smart Contract language ||| Integrated VM and Move + native functions written in Rust and executable in Move\n",
    "11. Critical Network Operations: Complex and less direct ||| Critical operations like Validator set mananagement written in Move - direct exectuion\n",
    "12. Function calling: Dynamic dispatch = arbitrary smart contract calls ||| Static dispatch = security\n",
    "13. Type safety: Contract types = allows for this ||| Module structs and generics = robust type safety\n",
    "14. Transaction safety: Uses nonces for transaction ordering and safety ||| Uses sequence numbers for transaction ordering and safety\n",
    "15. Authenticated storage: Yes, with smart contract storage ||| Yes, leveraging Move's resource model\n",
    "16. Object Accessibility: Objects are tied to smart contract scope and not globally accessible ||| Guaranteed global accessibility of objects"
   ]
  },
  {
   "cell_type": "markdown",
   "id": "c220c062-12cf-484e-867f-1410392ae766",
   "metadata": {},
   "source": [
    "### Digital Assets in Aptos\n",
    "\n",
    "1. First, create a collection to accomodate the tokens when we initiate the contract | Collection created inside init_module since it has to run only once\n",
    "2. Digital Asset: Object with token core\n",
    "3. Named Token: token::create_named_token() - creator information + info about token itself\n",
    "4. mutator_ref & burn_ref - only created by constructor_ref when token is created\n",
    "5. "
   ]
  },
  {
   "cell_type": "markdown",
   "id": "8a810221-0962-4b68-8b8e-12d1b793c6b1",
   "metadata": {},
   "source": [
    "### Userfule Links: Aptos\n",
    "1. Local Development Network using Docker - https://aptos.dev/guides/local-development-network/\n",
    "2. "
   ]
  },
  {
   "cell_type": "markdown",
   "id": "44c03dc6-e6c6-45ad-a3c3-485a048367d9",
   "metadata": {},
   "source": [
    "### Move Book\n",
    "1. Uses resource types with move sematics to own and transfer assets\n",
    "2. Modules: libraries - define struct types and functions operating on these struct types\n",
    "3. Module Syntax: ```module <address>::<identifier> {\n",
    "    (<use> | <friend> | <type> | <function> | <constant>)*\n",
    "}```\n",
    "4. Fundamentally, a module is a collection of ```types``` and ```functions```.\n",
    "5. The ```use``` keyword is used to import types from other modules.\n",
    "6. The ```friend``` keyword specifies a list of trusted modules.\n",
    "7. The ```const``` keyword defines private constants that can be used in the functions of a module.\n",
    "8. Struct Types: define schema of global storage & module functions define the rules for updating this storage\n",
    "9. Scripts: limited power - only invoke module functions | executale entrypoint (like main) | call functions of published module to eventually update global storage\n",
    "10. Publishing module + executing cripts => separate VM functions\n",
    "11. Integer types of one size can be cast to integer types of another size. Integers are the only types in Move that support casting.\n",
    "12. Implicitly copyable: integer | bool | address || vector values can be copied only if the elements can be copied\n",
    "13. Signer values are not copyable, meaning they cannot be copied from any operation whether it be through an explicit copy instruction or through a dereference *\n",
    "14. ```address``` - built-in move type - represent location - account in global storage | 256-bit (32-byte) identifier | modules and resources stored at an address | can use runtime address value to access resource at the address but not modules\n",
    "15. Move addresses are intentionally opaque - they cannot be created from integers, they do not support arithmetic operations, and they cannot be modified | designed from the ground up to support static verification\n",
    "16. Syntax of a numerical address - not restricted to hex-encoded values, and any valid u256 numerical value can be used as an address value, e.g., 42, 0xCAFE, and 2021 are all valid numerical address literals\n",
    "17. address values are used with the exists, borrow_global, borrow_global_mut, and move_from operations | The only global storage operation that does not use address is move_to, which uses signer\n",
    "18. ```vector<T>``` - only primitive collection type provided by Move | A vector<T> - homogenous collection of T's - grow or shrink by pushing/popping values off the \"end\" | instantiated with any type T | vector<u64>, vector<address>, vector<0x42::MyModule::MyResource>, and vector<vector<u8>> are all valid vector types.\n",
    "19. Common use-case for vectors - represent \"byte arrays\" - represented with vector<u8> | used for cryptographic purposes - public key, hash result\n",
    "20. Two supported types of vector<u8> literals, byte strings - quoted string literals prefixed by a b, e.g. b\"Hello!\\n\" || hex strings - quoted string literals prefixed by a x, e.g. x\"48656C6C6F210A\"\n",
    "21. ```signer``` - built-in move resource type - capability that allows the holder to act on behalf of a particular address | ```struct signer has drop { a: address }``` | similar to a Unix UID in that it represents a user authenticated by code outside of Move (e.g., by checking a cryptographic signature or password)\n",
    "22. ```signer``` vs ```address``` - Move program can create any address value without special permission using address literals | signer values are special because they cannot be created via literals or instructions - ```only by the Move VM```\\\n",
    "23. ```script { use std::signer; fun main(s: signer) {assert!(signer::address_of(&s) == @0x42, 0);}}```\n",
    "24. ```move_to<T>(&signer, T)``` global storage operator requires a &signer argument to publish a resource T under signer.address's account. This ensures that only an authenticated user can elect to publish a resource under their address\n",
    "25. References: immutable and mutable &mut || Immutable references = read only | cannot modify the underlying value (or any of its fields). || Mutable references - modifications via a write through that reference\n",
    "26. In order for a reference to be read, the underlying type must have the copy ability as reading the reference creates a new copy of the value. This rule prevents the copying of resource values.\n",
    "27. Dually: in order for a reference to be written to, the underlying type must have the drop ability as writing to the reference will discard (or \"drop\") the old value. This rule prevents the destruction of resource values.\n",
    "28. References and tuples are the only types that cannot be stored as a field value of structs, which also means that they cannot exist in global storage || All references created during program execution = destroyed when a Move program terminates; they are entirely ephemeral. This invariant is also true for values of types without the store ability, but note that references and tuples go a step further by never being allowed in structs in the first place.\n",
    "29. This is another difference between Move and Rust, which allows references to be stored inside of structs.\n",
    "30. Move cannot support this because references cannot be serialized, but every Move value must be serializable This requirement comes from Move's persistent global storage, which needs to serialize values to persist them across program executions. Structs can be written to global storage, and thus they must be serializable\n",
    "31. Tuples: Move does not fully support tuples as a first-class value | To support multiple return values, Move has tuple-like expressions\n",
    "32. unit () is a type created by the Move source language in order to be expression based\n",
    "33. Valid variable names: underscores _, letters a to z, letters A to Z, and digits 0 to 9 | Must start with either an underscore _ or a letter a through z | cannot start with uppercase letters\n",
    "34. move and copy\n",
    "35. ```structs```: user-defined data structure containing typed fields | refer to struct values as resources if they cannot be copied and cannot be dropped | structs - cannot be copied, cannot be dropped, and cannot be stored in global storage | linear and ephemeral - all values have to have ownership transferred (linear) and the values must be dealt with by the end of the program's execution (ephemeral)\n",
    "36. Defining ```structs```: must be defined inside a module || ```struct Foo has copy, drop { x: u64, y: bool };    struct Bar {}``` | structs can be granted abilities by annotating them with has ```<ability>``` || Naming: Structs must start with a capital letter A to Z\n",
    "37. Only structs with the key ability can be saved directly in persistent global storage. All values stored within those key structs must have the store ability\n",
    "38. ```constants```: Constants are a way of giving a name to shared, static values inside of a module or script. The constant's must be known at compilation. The constant's value is stored in the compiled module or script || const ```<name>: <type> = <expression>;``` || Constants must start with a capital letter A to Z || limited to the primitive types bool, u8, u16, u32, u64, u128, u256, address, and vector<u8>\n",
    "39. ```generics```: parametric polymorphism - \n",
    "40. ```abilities```: Typing feature in Move that control what actions are permissible for values of a given type || gating access to certain bytecode instructions so that for a value to be used with the bytecode instruction, it must have the ability required\n",
    "41. Four abilities are: Copy - Allows values of types with this ability to be copied | drop - Allows values of types with this ability to be popped/dropped | store - Allows values of types with this ability to exist inside a struct in global storage | key - Allows the type to serve as a key for global storage operations\n",
    "42. ```use``` syntax can be used to create aliases to members in other modules: ```use <address>::<module name> as <module alias name>;```\n",
    "43. friend syntax is used to declare modules that are trusted by the current module. A trusted module is allowed to call any function defined in the current module that have the public(friend) visibility || Friend modules must be within the same account address || Friends relationships cannot create cyclic module dependencies\n",
    "44. Global Storage - Structure - The purpose of Move programs is to read from and write to tree-shaped persistent global storage. Programs cannot access the filesystem, network, or any other data outside of this tree. | ```struct GlobalStorage {\n",
    "  resources: Map<(address, ResourceType), ResourceValue>\n",
    "  modules: Map<(address, ModuleName), ModuleBytecode>\n",
    "}```\n",
    "45. \n"
   ]
  },
  {
   "cell_type": "markdown",
   "id": "b2bee0b0-3f6a-4e3b-a7de-70b58216a21a",
   "metadata": {},
   "source": [
    "### Solution:\n",
    "1. Events: https://aptos.dev/guides/system-integrators-guide/#tracking-coin-balance-changes"
   ]
  },
  {
   "cell_type": "code",
   "execution_count": null,
   "id": "4f2a9e9c-ee77-4f2f-b7cc-0db163218724",
   "metadata": {},
   "outputs": [],
   "source": []
  },
  {
   "cell_type": "code",
   "execution_count": null,
   "id": "612bcd6e-2b34-4de2-a784-279897549ca0",
   "metadata": {},
   "outputs": [],
   "source": []
  }
 ],
 "metadata": {
  "kernelspec": {
   "display_name": "Typescript 4.9",
   "language": "typescript",
   "name": "typescript"
  },
  "language_info": {
   "file_extension": ".ts",
   "mimetype": "application/x-typescript",
   "name": "typescript",
   "version": "4.9.5"
  }
 },
 "nbformat": 4,
 "nbformat_minor": 5
}
