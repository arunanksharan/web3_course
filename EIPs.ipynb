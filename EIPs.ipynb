{
 "cells": [
  {
   "cell_type": "markdown",
   "id": "16bb7066-20a3-4d07-aba5-dcab81b0b8cf",
   "metadata": {},
   "source": [
    "# EIP-712: Typed structured data hashing and signing\n",
    "\n",
    "## A procedure for hashing and signing of typed structured data as opposed to just bytestrings"
   ]
  },
  {
   "cell_type": "markdown",
   "id": "1e177a8d-292c-4a38-9333-b5eb36a69f15",
   "metadata": {},
   "source": [
    "## Abstract\n",
    "1. Framework correctness of encoding functions\n",
    "2. specification of structured data similar to and compatible with Solidity structs\n",
    "3. safe hashing algorithm for instances of those structures\n",
    "4. safe inclusion of the instance in a set of signable messages\n",
    "5. an extensible mechanism for domain separation\n",
    "6. new RPC call eth_signTypedData\n",
    "7. optimized implementation of the hashing algorithm in EVM\n",
    "8. It does not include replay protection\n",
    "9. Signing data is a solved problem if all we care about are bytestrings.\n",
    "10. Unfortunately in the real world we care about complex meaningful messages.\n",
    "11. Hashing structured data is non-trivial and errors result in loss of the security properties of the system.\n",
    "12. EIP aims to improve the usability of off-chain message signing for use on-chain.\n",
    "13. We are seeing growing adoption of off-chain message signing as it saves gas and reduces the number of transactions on the blockchain. Currently signed messages are an opaque hex string displayed to the user with little context about the items that make up the message.\n",
    "14. Here we outline a scheme to encode data along with its structure which allows it to be displayed to the user for verification when signing.\n",
    "\n",
    "## Specification\n",
    "15. Set of signable messages is extended from transactions and bytestrings 𝕋 ∪ 𝔹⁸ⁿ to also include structured data 𝕊. The new set of signable messages is thus 𝕋 ∪ 𝔹⁸ⁿ ∪ 𝕊\n",
    "16. They are encoded to bytestrings suitable for hashing and signing as follows:\n",
    "\n",
    "```encode(transaction : 𝕋) = RLP_encode(transaction)```\n",
    "```encode(message : 𝔹⁸ⁿ) = \"\\x19Ethereum Signed Message:\\n\" ‖ len(message) ‖ message where len(message) is the non-zero-padded ascii-decimal encoding of the number of bytes in message.```\n",
    "```encode(domainSeparator : 𝔹²⁵⁶, message : 𝕊) = \"\\x19\\x01\" ‖ domainSeparator ‖ hashStruct(message) where domainSeparator and hashStruct(message) are defined below.```\n",
    "17. \n",
    "18. sd"
   ]
  }
 ],
 "metadata": {
  "kernelspec": {
   "display_name": "Typescript 4.9",
   "language": "typescript",
   "name": "typescript"
  },
  "language_info": {
   "file_extension": ".ts",
   "mimetype": "application/x-typescript",
   "name": "typescript",
   "version": "4.9.5"
  }
 },
 "nbformat": 4,
 "nbformat_minor": 5
}
